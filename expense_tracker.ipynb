{
 "cells": [
  {
   "cell_type": "code",
   "execution_count": 24,
   "metadata": {},
   "outputs": [
    {
     "name": "stdout",
     "output_type": "stream",
     "text": [
      "1. Add new expense\n",
      "2. View all expenses\n",
      "3. View total expense\n",
      "4. Exit\n",
      "Choose an option:4\n",
      "Exiting the program.\n"
     ]
    }
   ],
   "source": [
    "while True:\n",
    "    print(\"1. Add new expense\")\n",
    "    print(\"2. View all expenses\")\n",
    "    print(\"3. View total expense\")\n",
    "    print(\"4. Exit\")\n",
    "    option=input(\"Choose an option:\")\n",
    "    if option==\"1\":\n",
    "        u_in=input(\"Enter date in  (dd-mm-yyyy) format\")\n",
    "        cat=input(\"Category: \")\n",
    "        am=int(input(\"Amount: \"))\n",
    "        expenses_file=open(\"expenses\",'a')\n",
    "        expenses_file.write(f\"{u_in}, {cat}, {am}\\n\")\n",
    "        expenses_file.close()\n",
    "        print(\"Expense added successfully\")\n",
    "    elif option == \"2\":\n",
    "        view_file = open(\"expenses\", 'r')\n",
    "        lines = view_file.readlines()\n",
    "        for line in lines:\n",
    "            parts = line.strip().split(',')\n",
    "            if len(parts) == 3:\n",
    "                date = parts[0].strip()\n",
    "                category = parts[1].strip()\n",
    "                amount = parts[2].strip()\n",
    "                print(f\"Date: {date} | Category: {category} | Amount: ₹{amount}\")\n",
    "        view_file.close()\n",
    "    elif option == \"3\":\n",
    "        file = open(\"expenses\", \"r\")\n",
    "        lines = file.readlines()\n",
    "        total = 0\n",
    "        for line in lines:\n",
    "            parts = line.strip().split(',')\n",
    "            if len(parts) == 3:\n",
    "                amount = parts[2].strip()\n",
    "                total += int(amount)\n",
    "        file.close()\n",
    "        print(\"Total Expense: ₹\", total)\n",
    "    elif option == \"4\":\n",
    "        print(\"Exiting the program.\")\n",
    "        break\n"
   ]
  },
  {
   "cell_type": "code",
   "execution_count": null,
   "metadata": {},
   "outputs": [],
   "source": []
  }
 ],
 "metadata": {
  "kernelspec": {
   "display_name": "Python 3",
   "language": "python",
   "name": "python3"
  },
  "language_info": {
   "codemirror_mode": {
    "name": "ipython",
    "version": 3
   },
   "file_extension": ".py",
   "mimetype": "text/x-python",
   "name": "python",
   "nbconvert_exporter": "python",
   "pygments_lexer": "ipython3",
   "version": "3.7.4"
  }
 },
 "nbformat": 4,
 "nbformat_minor": 2
}
